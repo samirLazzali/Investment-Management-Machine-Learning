{
 "cells": [
  {
   "cell_type": "code",
   "execution_count": 100,
   "metadata": {},
   "outputs": [
    {
     "data": {
      "text/plain": [
       "SmallCap    0.232857\n",
       "LargeCap    0.111787\n",
       "dtype: float64"
      ]
     },
     "execution_count": 100,
     "metadata": {},
     "output_type": "execute_result"
    }
   ],
   "source": [
    "ffme = erk.get_ffme_returns()\n",
    "ffme.mean()\n",
    "(1+ffme.mean())**12 - 1"
   ]
  },
  {
   "cell_type": "code",
   "execution_count": 102,
   "metadata": {},
   "outputs": [
    {
     "data": {
      "text/plain": [
       "SmallCap    0.368193\n",
       "LargeCap    0.186716\n",
       "dtype: float64"
      ]
     },
     "execution_count": 102,
     "metadata": {},
     "output_type": "execute_result"
    }
   ],
   "source": [
    "ffme.std()*(12**0.5)"
   ]
  },
  {
   "cell_type": "code",
   "execution_count": 104,
   "metadata": {},
   "outputs": [
    {
     "data": {
      "text/plain": [
       "SmallCap    0.151502\n",
       "LargeCap    0.063512\n",
       "dtype: float64"
      ]
     },
     "execution_count": 104,
     "metadata": {},
     "output_type": "execute_result"
    }
   ],
   "source": [
    "ffme_1999_2015 = ffme[\"1999\":\"2015\"]\n",
    "ffme_1999_2015.head()\n",
    "(1+ffme_1999_2015.mean())**12 - 1"
   ]
  },
  {
   "cell_type": "code",
   "execution_count": 105,
   "metadata": {},
   "outputs": [
    {
     "data": {
      "text/plain": [
       "SmallCap    0.229337\n",
       "LargeCap    0.169171\n",
       "dtype: float64"
      ]
     },
     "execution_count": 105,
     "metadata": {},
     "output_type": "execute_result"
    }
   ],
   "source": [
    "ffme_1999_2015.std()*(12**0.5)"
   ]
  },
  {
   "cell_type": "code",
   "execution_count": 138,
   "metadata": {},
   "outputs": [
    {
     "name": "stdout",
     "output_type": "stream",
     "text": [
      "-0.5280945042309305\n"
     ]
    },
    {
     "data": {
      "text/plain": [
       "Period('2009-02', 'M')"
      ]
     },
     "execution_count": 138,
     "metadata": {},
     "output_type": "execute_result"
    }
   ],
   "source": [
    "print(erk.drawdown(ffme_1999_2015['LargeCap']).Drawdown.min())\n",
    "erk.drawdown(ffme_1999_2015['LargeCap']).Drawdown.idxmin()"
   ]
  },
  {
   "cell_type": "code",
   "execution_count": 133,
   "metadata": {},
   "outputs": [],
   "source": [
    "hfi = erk.get_hfi_returns()\n",
    "hfi_2009_2018 = hfi['2009':'2018']"
   ]
  },
  {
   "cell_type": "code",
   "execution_count": 129,
   "metadata": {},
   "outputs": [
    {
     "name": "stdout",
     "output_type": "stream",
     "text": [
      "Short Selling\n",
      "0.02124006084946295\n"
     ]
    }
   ],
   "source": [
    "print(erk.semideviation(hfi_2009_2018).idxmax())\n",
    "print(erk.semideviation(hfi_2009_2018).max())"
   ]
  },
  {
   "cell_type": "code",
   "execution_count": 130,
   "metadata": {},
   "outputs": [
    {
     "name": "stdout",
     "output_type": "stream",
     "text": [
      "Fixed Income Arbitrage\n",
      "0.003320543832289375\n"
     ]
    }
   ],
   "source": [
    "print(erk.semideviation(hfi_2009_2018).idxmin())\n",
    "print(erk.semideviation(hfi_2009_2018).min())"
   ]
  },
  {
   "cell_type": "code",
   "execution_count": 131,
   "metadata": {},
   "outputs": [
    {
     "name": "stdout",
     "output_type": "stream",
     "text": [
      "Equity Market Neutral\n",
      "-0.8963273143673751\n"
     ]
    }
   ],
   "source": [
    "print(erk.skewness(hfi_2009_2018).idxmin())\n",
    "print(erk.skewness(hfi_2009_2018).min())"
   ]
  },
  {
   "cell_type": "code",
   "execution_count": 132,
   "metadata": {},
   "outputs": [
    {
     "name": "stdout",
     "output_type": "stream",
     "text": [
      "Fixed Income Arbitrage\n",
      "33.378728989094725\n"
     ]
    }
   ],
   "source": [
    "hfi_2000_2018 = hfi['2000':'2018'] \n",
    "print(erk.kurtosis(hfi_2000_2018).idxmax())\n",
    "print(erk.kurtosis(hfi_2000_2018).max())"
   ]
  }
 ],
 "metadata": {
  "kernelspec": {
   "display_name": "Python 3",
   "language": "python",
   "name": "python3"
  },
  "language_info": {
   "codemirror_mode": {
    "name": "ipython",
    "version": 3
   },
   "file_extension": ".py",
   "mimetype": "text/x-python",
   "name": "python",
   "nbconvert_exporter": "python",
   "pygments_lexer": "ipython3",
   "version": "3.7.1"
  }
 },
 "nbformat": 4,
 "nbformat_minor": 2
}
